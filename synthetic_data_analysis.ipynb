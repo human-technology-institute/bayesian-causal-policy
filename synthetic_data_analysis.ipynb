{
 "cells": [
  {
   "cell_type": "markdown",
   "metadata": {},
   "source": [
    "# Data for Policy 2024 \n",
    "\n",
    "## Case Study 1: Bayesian Structure Learning with Synthetic Education Data "
   ]
  },
  {
   "cell_type": "code",
   "execution_count": null,
   "metadata": {},
   "outputs": [],
   "source": [
    "\n",
    "import numpy as np \n",
    "import pandas as pd\n",
    "\n",
    "import networkx as nx\n",
    "import seaborn as sns\n",
    "\n",
    "import matplotlib.pyplot as plt\n",
    "\n",
    "from collections import Counter\n",
    "\n",
    "import networkx as nx\n",
    "import matplotlib.pyplot as plt\n",
    "\n",
    "import pickle\n",
    "\n",
    "import os \n",
    "from scores.bge import BGeScore\n",
    "\n",
    "from data.datagen import SyntheticDataset\n",
    "from utils.graph_utils import *\n",
    "\n",
    "import statsmodels.api as sm\n",
    "from sklearn.linear_model import LinearRegression\n",
    "\n",
    "from inference.posterior import *\n",
    "from collections import Counter, defaultdict\n",
    "\n",
    "from evaluation.metrics import *\n",
    "sns.set_style(\"whitegrid\", {'axes.grid' : False})\n"
   ]
  },
  {
   "cell_type": "markdown",
   "metadata": {},
   "source": [
    "In this example, we will consider the following variables: LowIncome, SingleParent, MentalHealth, NotCompletedYr12, Unemployed. \n",
    "\n",
    "Variable descriptions are as follows:\n",
    "\n",
    "- LowIncome: Percentage of low income households in the area\n",
    "- SingleParent: Percentage of single parent households in the area\n",
    "- MentalHealth: Percentage of people with mental health issues in the area\n",
    "- NotCompletedYr12: Percentage of people who did not complete year 12 in the area\n",
    "- Unemployed: Percentage of people who are unemployed in the area\n"
   ]
  },
  {
   "cell_type": "markdown",
   "metadata": {},
   "source": [
    "### Defining the True Data Generation Process"
   ]
  },
  {
   "cell_type": "code",
   "execution_count": null,
   "metadata": {},
   "outputs": [],
   "source": [
    "# specifying the true dag\n",
    "\n",
    "G, positions = build_ground_truth_graph()\n",
    "\n",
    "plot_graph( G, positions, figsize=(7, 5), save = True , filepath= \"./results/true_dag.png\")"
   ]
  },
  {
   "cell_type": "code",
   "execution_count": null,
   "metadata": {},
   "outputs": [],
   "source": [
    "\n",
    "nodes = [\"Unemployed\", \"LowIncome\", \"NotCompletedYr12\", \"SingleParent\", \"MentalHealth\"]\n",
    "num_nodes = len(nodes)\n",
    "num_obsv = 100\n",
    "degree = 2\n",
    "noise_scale = 0.5\n",
    "\n",
    "sparse_adj_matrix = nx.adjacency_matrix(G)\n",
    "dense_adj_matrix = sparse_adj_matrix.todense()\n",
    "\n",
    "np.random.seed(794) # for reproducibility | 206 | 267 | 794 | 892\n",
    "\n",
    "sdj = SyntheticDataset(num_nodes, num_obsv, nodes, degree, noise_scale=noise_scale, true_dag=dense_adj_matrix)\n",
    "\n",
    "data = sdj.data"
   ]
  },
  {
   "cell_type": "code",
   "execution_count": null,
   "metadata": {},
   "outputs": [],
   "source": [
    "data.to_csv(\"results/synthetic_data.csv\", index=False)"
   ]
  },
  {
   "cell_type": "markdown",
   "metadata": {},
   "source": [
    "### True Posterior Distribution"
   ]
  },
  {
   "cell_type": "code",
   "execution_count": null,
   "metadata": {},
   "outputs": [],
   "source": [
    "\n",
    "all_dags = generate_all_dags( data, BGeScore, gen_augmented_priors = False)\n",
    "true_distr = compute_true_distribution( all_dags, with_aug_prior = False )"
   ]
  },
  {
   "cell_type": "code",
   "execution_count": null,
   "metadata": {},
   "outputs": [],
   "source": [
    "save_path = \"./results/true_posterior.png\"\n",
    "\n",
    "true_distr_plot, key_to_id, id_to_key = plot_posterior_distribution(true_distr, true_graph = dense_adj_matrix, true_graph_color = \"#E74C3C\", prob_threshold=0.003, figsize = (14,5), title = \"\",  save_path=save_path  )\n"
   ]
  },
  {
   "cell_type": "code",
   "execution_count": null,
   "metadata": {},
   "outputs": [],
   "source": [
    "ID = 15790\n",
    "key = id_to_key[ ID ]\n",
    "G_true = generate_graph_from_key( key, nodes)\n",
    "\n",
    "plot_graph(G_true, pos = positions, figsize=(5, 4), title=\"\", save = True , filepath= f\"./results/G_{ID}_True_DAG.png\")"
   ]
  },
  {
   "cell_type": "code",
   "execution_count": null,
   "metadata": {},
   "outputs": [],
   "source": [
    "ID = 15717\n",
    "key = id_to_key[ ID ]\n",
    "G_ID = generate_graph_from_key( key, nodes)\n",
    "\n",
    "res = compare_graphs( G_ID, G_true)\n",
    "edges_to_highlight = res['Reversed Edges'] + res['Added Edges'] + res['Deleted Edges']\n",
    "\n",
    "plot_graph(G_ID, pos = positions, highlighted_edges=edges_to_highlight, figsize=(5, 4), title=\"\", save = True , filepath= f\"./results/G_{ID}.png\");\n"
   ]
  },
  {
   "cell_type": "code",
   "execution_count": null,
   "metadata": {},
   "outputs": [],
   "source": [
    "ID = 15722\n",
    "key = id_to_key[ ID ]\n",
    "G_ID = generate_graph_from_key( key, nodes)\n",
    "\n",
    "res = compare_graphs( G_ID, G_true)\n",
    "edges_to_highlight = res['Reversed Edges'] + res['Added Edges'] + res['Deleted Edges']\n",
    "\n",
    "plot_graph(G_ID, pos = positions, highlighted_edges=edges_to_highlight, figsize=(5, 4), title=\"\", save = True , filepath= f\"./results/G_{ID}.png\");\n"
   ]
  },
  {
   "cell_type": "code",
   "execution_count": null,
   "metadata": {},
   "outputs": [],
   "source": [
    "ID = 15978\n",
    "key = id_to_key[ ID ]\n",
    "G_ID = generate_graph_from_key( key, nodes)\n",
    "\n",
    "res = compare_graphs( G_ID, G_true)\n",
    "edges_to_highlight = res['Reversed Edges'] + res['Added Edges'] + res['Deleted Edges']\n",
    "\n",
    "plot_graph(G_ID, pos = positions, highlighted_edges=edges_to_highlight, figsize=(5, 4), title=\"\", save = True , filepath= f\"./results/G_{ID}.png\");\n"
   ]
  },
  {
   "cell_type": "code",
   "execution_count": null,
   "metadata": {},
   "outputs": [],
   "source": [
    "ID = 17336\n",
    "key = id_to_key[ ID ]\n",
    "G_ID = generate_graph_from_key( key, nodes)\n",
    "\n",
    "res = compare_graphs( G_ID, G_true)\n",
    "edges_to_highlight = res['Reversed Edges'] + res['Added Edges'] + res['Deleted Edges']\n",
    "\n",
    "plot_graph(G_ID, pos = positions, highlighted_edges=edges_to_highlight, figsize=(5, 4), title=\"\", save = True , filepath= f\"./results/G_{ID}.png\");\n"
   ]
  },
  {
   "cell_type": "code",
   "execution_count": null,
   "metadata": {},
   "outputs": [],
   "source": [
    "ID = 15962\n",
    "key = id_to_key[ ID ]\n",
    "G_ID = generate_graph_from_key( key, nodes)\n",
    "\n",
    "res = compare_graphs( G_ID, G_true)\n",
    "edges_to_highlight = res['Reversed Edges'] + res['Added Edges'] + res['Deleted Edges']\n",
    "\n",
    "plot_graph(G_ID, pos = positions, highlighted_edges=edges_to_highlight, figsize=(5, 4), title=\"\", save = True , filepath= f\"./results/G_{ID}.png\");\n"
   ]
  },
  {
   "cell_type": "markdown",
   "metadata": {},
   "source": [
    "## Linear Regression"
   ]
  },
  {
   "cell_type": "code",
   "execution_count": null,
   "metadata": {},
   "outputs": [],
   "source": [
    "Glr, poslr = build_linear_regr_graph()\n",
    "\n",
    "plot_graph( Glr, poslr, figsize=(6, 4), save = True , filepath= \"./results/LR_dag.png\")"
   ]
  },
  {
   "cell_type": "code",
   "execution_count": null,
   "metadata": {},
   "outputs": [],
   "source": [
    "\n",
    "# Prepare predictors and target variable\n",
    "X = data.drop([\"NotCompletedYr12\"], axis=1)\n",
    "y = data[\"NotCompletedYr12\"]\n",
    "\n",
    "\n",
    "# Add a constant to the predictors (for the intercept)\n",
    "X_const = sm.add_constant(X)\n",
    "\n",
    "# Fit the regression model\n",
    "model = sm.OLS(y, X_const).fit()\n",
    "\n",
    "# Print the summary, which includes p-values\n",
    "print(model.summary())\n",
    "\n",
    "# Extract the p-values\n",
    "p_values = model.pvalues\n",
    "\n",
    "# Consider variables with p < 0.05 as statistically significant\n",
    "significant_vars = p_values[p_values < 0.05].index.tolist()\n",
    "\n",
    "# Print the names of significant variables\n",
    "print(\"\\nSignificant variables:\", significant_vars)\n",
    "\n",
    "\n"
   ]
  },
  {
   "cell_type": "code",
   "execution_count": null,
   "metadata": {},
   "outputs": [],
   "source": [
    "highlighted_edges = []\n",
    "for var in significant_vars:\n",
    "    highlighted_edges.extend([(var, \"NotCompletedYr12\")])\n",
    "    \n",
    "plot_graph( Glr, pos = poslr, highlighted_edges = highlighted_edges,  figsize=(6, 4),  save = True , filepath= \"./results/true_dag_stat_sig.png\")"
   ]
  },
  {
   "cell_type": "markdown",
   "metadata": {},
   "source": [
    "make an example where we start a BN that is the Linear Regression and then generate data and see if I can recover the GT"
   ]
  },
  {
   "cell_type": "markdown",
   "metadata": {},
   "source": [
    "## Structure Learning - Finding the Best Model using PC Algorithm"
   ]
  },
  {
   "cell_type": "code",
   "execution_count": null,
   "metadata": {},
   "outputs": [],
   "source": [
    "\n",
    "from pgmpy.utils import get_example_model\n",
    "from pgmpy.estimators import PC\n",
    "\n",
    "est = PC(data)\n",
    "model_pc = est.estimate(ci_test='pearsonr',  return_type='dag', significance_level=0.05, max_cond_vars=2)\n",
    "\n",
    "# convert dag to graph\n",
    "pc_dag = nx.DiGraph()\n",
    "pc_dag.add_edges_from(model_pc.edges())\n"
   ]
  },
  {
   "cell_type": "code",
   "execution_count": null,
   "metadata": {},
   "outputs": [],
   "source": [
    "plot_graph(pc_dag, figsize=(5, 4),  save = True , filepath= \"./results/pc_algo_dag.png\" )"
   ]
  },
  {
   "cell_type": "code",
   "execution_count": null,
   "metadata": {},
   "outputs": [],
   "source": [
    "\n",
    "edge_frequency_heatmap( [pc_dag], nodes = list(data.columns), title = \"PC Algorithm\", figsize=(6, 6), save_path=\"./results/pc_algo_edge_map.png\" )\n"
   ]
  },
  {
   "cell_type": "code",
   "execution_count": null,
   "metadata": {},
   "outputs": [],
   "source": [
    "edge_frequency_heatmap( [G], nodes = list(data.columns), title = \"True Data Generation Graph\", figsize=(6, 6), save_path=\"./results/true_dag_edge_map.png\");\n"
   ]
  },
  {
   "cell_type": "markdown",
   "metadata": {},
   "source": [
    "## Structure Learning - Partition MCMC"
   ]
  },
  {
   "cell_type": "code",
   "execution_count": null,
   "metadata": {},
   "outputs": [],
   "source": [
    "%load_ext rpy2.ipython\n",
    "\n",
    "from rpy2.robjects import pandas2ri\n",
    "pandas2ri.activate()\n",
    "\n",
    "FLAG = 1 # set to 1 to run PartitionMCMC"
   ]
  },
  {
   "cell_type": "code",
   "execution_count": null,
   "metadata": {},
   "outputs": [],
   "source": [
    "%%R -o graph_list_R -i FLAG\n",
    "\n",
    "library(BiDAG)\n",
    "library(readr)\n",
    "library(pcalg)\n",
    "library(doParallel)\n",
    "library(foreach)\n",
    "library(igraph)\n",
    "\n",
    "\n",
    "runPartMCMC_original_exp <- function(data_path,maxiter,initial_graph_path,result_path,n_nodes){\n",
    "\n",
    "    data <- as.data.frame(read_csv(data_path,show_col_types=FALSE))\n",
    "    #initial_graph <- as.data.frame(read_csv(initial_graph_path,show_col_types=FALSE))\n",
    "\n",
    "    myScore<-BiDAG::scoreparameters(\"bge\", data)\n",
    "    partfit<-BiDAG::partitionMCMC(myScore,iterations = maxiter, startspace = matrix(1, n_nodes, n_nodes), stepsave = 1)\n",
    "    graph_list <- partfit$traceadd$incidence\n",
    "\n",
    "    graph_list_final <- lapply(graph_list, as.matrix)\n",
    "    return(graph_list_final)\n",
    "}\n",
    "\n",
    "# set seed\n",
    "set.seed(11)\n",
    "\n",
    "exp_id <- 1\n",
    "n_nodes <- 5\n",
    "max_iter <- 300000\n",
    "graph_list_R <- list()\n",
    "\n",
    "my_data_path <- \"results/synthetic_data_1.csv\"\n",
    "my_initial_dag_path <- \"results/initial_graph.csv\"\n",
    "\n",
    "if( FLAG == 1 ){\n",
    "    print(\"FLAG = 1, initiating Partition MCMC\")\n",
    "    graph_list_R <- runPartMCMC_original_exp(my_data_path, max_iter,my_initial_dag_path, \"\", n_nodes)\n",
    "} else {\n",
    "    print(\"FLAG = 0, skipping Partition MCMC...\")\n",
    "}\n"
   ]
  },
  {
   "cell_type": "code",
   "execution_count": null,
   "metadata": {},
   "outputs": [],
   "source": [
    "if FLAG == 1:\n",
    "    # process R objects to python\n",
    "    graph_list = []\n",
    "    for i in graph_list_R.items():\n",
    "        graph_list.append( i[1] )\n",
    "        \n",
    "    # delete the first element\n",
    "    graph_list = graph_list[1:]\n",
    "    print(\"Total graphs processed\", len(graph_list))\n",
    "    with open(\"results/pmcmc_graph_list_1.pkl\", \"wb\") as f:\n",
    "        pickle.dump( graph_list, f )\n",
    "else: # if PMCMC was not called, use our pre computed graph_list\n",
    "    with open(\"results/pmcmc_graph_list.pkl\", \"rb\") as f:\n",
    "        graph_list = pickle.load( f )\n",
    "    print(\"Total graphs loaded\", len(graph_list))"
   ]
  },
  {
   "cell_type": "code",
   "execution_count": null,
   "metadata": {},
   "outputs": [],
   "source": [
    "\n",
    "approx_distr = compute_approx_distribution_index(graph_list, true_distr)\n"
   ]
  },
  {
   "cell_type": "code",
   "execution_count": null,
   "metadata": {},
   "outputs": [],
   "source": [
    "JSD = jensen_shannon_divergence( approx_distr, true_distr ) \n",
    "print(\"JSD(approx_distr, true_distr) = \", np.round(JSD, 6))"
   ]
  },
  {
   "cell_type": "code",
   "execution_count": null,
   "metadata": {},
   "outputs": [],
   "source": [
    "\n",
    "save_path = \"./results/approx_distr.png\"\n",
    "ylabel = r'MCMC Approximate P($G | Data$)'\n",
    "approx_distr_plot, key_to_id, id_to_key = plot_posterior_distribution(approx_distr, ylabel = ylabel, true_graph = dense_adj_matrix, true_graph_color = \"#E74C3C\", prob_threshold=0.003, figsize = (14,5), title = \"\",  save_path=save_path  )\n"
   ]
  },
  {
   "cell_type": "code",
   "execution_count": null,
   "metadata": {},
   "outputs": [],
   "source": [
    "ID = 15790\n",
    "key = id_to_key[ ID ]\n",
    "key"
   ]
  },
  {
   "cell_type": "code",
   "execution_count": null,
   "metadata": {},
   "outputs": [],
   "source": [
    "# get the top N entries of the approximate distribution\n",
    "N =10\n",
    "approx_distr_rounded = {key: round(value, 4) for key, value in approx_distr.items()}\n",
    "top_n_entries = dict(sorted(approx_distr_rounded.items(), key=lambda item: (-item[1], item[0]))[:N])\n",
    "top_n_entries\n"
   ]
  },
  {
   "cell_type": "code",
   "execution_count": null,
   "metadata": {},
   "outputs": [],
   "source": [
    "# ... and their corresponding IDs\n",
    "ids = [ key_to_id[k] for k, v in top_n_entries.items()]\n",
    "ids"
   ]
  },
  {
   "cell_type": "code",
   "execution_count": null,
   "metadata": {},
   "outputs": [],
   "source": [
    "def plot_graph(G : nx.DiGraph, pos = None, highlighted_edges = None, title=None, figsize = (5,3), node_size=2000, node_color=\"skyblue\", k=5, save = False, filepath = None):\n",
    "    \n",
    "    if pos is None:\n",
    "        pos = nx.spring_layout(G, k=k)\n",
    "\n",
    "    plt.figure(figsize=figsize)\n",
    "    \n",
    "    \n",
    "    nx.draw(G, with_labels=True, arrowsize=20, arrows=True, node_size=node_size, node_color=node_color, pos=pos)\n",
    "    if highlighted_edges:\n",
    "        nx.draw(G, edgelist=highlighted_edges,edge_color='red',width=5, arrowsize=25, alpha=0.4, with_labels=True, arrows=True, node_size=node_size, node_color=node_color, pos=pos)\n",
    "    \n",
    "    plt.gca().margins(0.20)\n",
    "    \n",
    "    if title:\n",
    "        plt.title(title)\n",
    "    plt.axis(\"off\")\n",
    "    \n",
    "    if save:\n",
    "        #plt.tight_layout()\n",
    "        plt.savefig(filepath, dpi=300)\n",
    "    plt.show()"
   ]
  },
  {
   "cell_type": "code",
   "execution_count": null,
   "metadata": {},
   "outputs": [],
   "source": [
    "ID = 17336\n",
    "key = id_to_key[ ID ]\n",
    "G_ID = generate_graph_from_key( key, nodes)\n",
    "\n",
    "res = compare_graphs( G_ID, G_true)\n",
    "edges_to_highlight = res['Reversed Edges'] + res['Added Edges'] + res['Deleted Edges']\n",
    "\n",
    "plot_graph(G_ID, pos = positions, highlighted_edges=edges_to_highlight, figsize=(5, 4), title=fr\"Predicted DAG with Pr($G_{{{ID}}}$ | D) = ${top_n_entries[key]}$\", save = True , filepath= f\"./results/G_{ID}.png\");\n"
   ]
  },
  {
   "cell_type": "code",
   "execution_count": null,
   "metadata": {},
   "outputs": [],
   "source": [
    "ID = 15978\n",
    "key = id_to_key[ ID ]\n",
    "G_ID = generate_graph_from_key( key, nodes)\n",
    "\n",
    "res = compare_graphs( G_ID, G_true)\n",
    "edges_to_highlight = res['Reversed Edges'] + res['Added Edges'] + res['Deleted Edges']\n",
    "\n",
    "plot_graph(G_ID, pos = positions, highlighted_edges=edges_to_highlight, figsize=(5, 4), title=fr\"Predicted DAG with Pr($G_{{{ID}}}$ | D) = ${top_n_entries[key]}$\", save = True , filepath= f\"./results/G_{ID}.png\");\n"
   ]
  },
  {
   "cell_type": "code",
   "execution_count": null,
   "metadata": {},
   "outputs": [],
   "source": [
    "ID = 13578\n",
    "key = id_to_key[ ID ]\n",
    "G_ID = generate_graph_from_key( key, nodes)\n",
    "\n",
    "res = compare_graphs( G_ID, G_true)\n",
    "edges_to_highlight = res['Reversed Edges'] + res['Added Edges'] + res['Deleted Edges']\n",
    "\n",
    "plot_graph(G_ID, pos = positions, highlighted_edges=edges_to_highlight, figsize=(5, 4), title=fr\"Predicted DAG with Pr($G_{{{ID}}}$ | D) = ${top_n_entries[key]}$\", save = True , filepath= f\"./results/G_{ID}.png\");\n"
   ]
  },
  {
   "cell_type": "code",
   "execution_count": null,
   "metadata": {},
   "outputs": [],
   "source": [
    "ID = 15790\n",
    "key = id_to_key[ ID ]\n",
    "G_ID = generate_graph_from_key( key, nodes)\n",
    "\n",
    "res = compare_graphs( G_ID, G_true)\n",
    "edges_to_highlight = res['Reversed Edges'] + res['Added Edges'] + res['Deleted Edges']\n",
    "\n",
    "plot_graph(G_ID, pos = positions, highlighted_edges=edges_to_highlight, figsize=(5, 4), title=fr\"[True DAG] Predicted DAG with Pr($G_{{{ID}}}$ | D) = ${top_n_entries[key]}$\", save = True , filepath= f\"./results/G_{ID}.png\");\n"
   ]
  },
  {
   "cell_type": "code",
   "execution_count": null,
   "metadata": {},
   "outputs": [],
   "source": [
    "ID = 18048\n",
    "key = id_to_key[ ID ]\n",
    "G_ID = generate_graph_from_key( key, nodes)\n",
    "\n",
    "res = compare_graphs( G_ID, G_true)\n",
    "edges_to_highlight = res['Reversed Edges'] + res['Added Edges'] + res['Deleted Edges']\n",
    "\n",
    "plot_graph(G_ID, pos = positions, highlighted_edges=edges_to_highlight, figsize=(5, 4), title=fr\"Predicted DAG with Pr($G_{{{ID}}}$ | D) = ${top_n_entries[key]}$\", save = True , filepath= f\"./results/G_{ID}.png\");\n"
   ]
  },
  {
   "cell_type": "code",
   "execution_count": null,
   "metadata": {},
   "outputs": [],
   "source": [
    "edge_frequency_heatmap_np( graph_list, nodes = list(data.columns), figsize=(6, 6), title = \"Edge Occurrence Probabilities in Partition MCMC\", save_path= \"./results/pmcmc_edge_map.png\")\n"
   ]
  },
  {
   "cell_type": "code",
   "execution_count": null,
   "metadata": {},
   "outputs": [],
   "source": [
    "# perform model Bayesian average to compute the \"best\" graph from the distribution\n",
    "prob_matrix = graph_model_averaging( graph_list, 5, prob = 0.5)\n",
    "plot_graph_from_adj_mat(prob_matrix, node_labels = nodes, pos = positions, figsize=(5, 4), title=\"\", save = True , filepath= \"./results/mba_dag.png\")"
   ]
  },
  {
   "cell_type": "code",
   "execution_count": null,
   "metadata": {},
   "outputs": [],
   "source": [
    "edge_frequency_heatmap_np( [prob_matrix], nodes = list(data.columns), figsize=(6, 5), title = \"Edge Occurrence Probabilities in Partition MCMC\")\n"
   ]
  },
  {
   "cell_type": "markdown",
   "metadata": {},
   "source": [
    "### Plot Curves"
   ]
  },
  {
   "cell_type": "code",
   "execution_count": null,
   "metadata": {},
   "outputs": [],
   "source": [
    "import seaborn as sns\n",
    "sns.set()"
   ]
  },
  {
   "cell_type": "code",
   "execution_count": null,
   "metadata": {},
   "outputs": [],
   "source": [
    "expr_post = mcmc_post_process(5, 5)"
   ]
  },
  {
   "cell_type": "code",
   "execution_count": null,
   "metadata": {},
   "outputs": [],
   "source": [
    "plot_mcmc_metric(5, \"./results\", title=\"Jenson-Shannon Divergence for Partition MCMC\")\n"
   ]
  },
  {
   "cell_type": "code",
   "execution_count": null,
   "metadata": {},
   "outputs": [],
   "source": [
    "with open(\"./results/true_distr.pkl\", 'rb') as f:\n",
    "    true_distr = pickle.load(f)\n",
    "\n",
    "with open(\"./results/pmcmc_graph_list.pkl\", 'rb') as f:\n",
    "    graph_list = pickle.load(f)"
   ]
  },
  {
   "cell_type": "code",
   "execution_count": null,
   "metadata": {},
   "outputs": [],
   "source": [
    "# sort the true distribution\n",
    "true_distr = dict(sorted(true_distr.items(), key=lambda item: item[1], reverse=True))\n",
    "\n",
    "approx_distr = compute_approx_distribution_index(graph_list, true_distr)"
   ]
  },
  {
   "cell_type": "code",
   "execution_count": null,
   "metadata": {},
   "outputs": [],
   "source": [
    "\n",
    "\n",
    "plot_approx_posterior_distribution(true_distr, true_graph=dense_adj_matrix, prob_threshold=0.001, figsize=(12, 7), title=\"PMCMC Approximate Posterior Distribution\", algo1_scores=approx_distr, label1=\"PMCMC\");\n"
   ]
  }
 ],
 "metadata": {
  "kernelspec": {
   "display_name": "pgm",
   "language": "python",
   "name": "python3"
  },
  "language_info": {
   "codemirror_mode": {
    "name": "ipython",
    "version": 3
   },
   "file_extension": ".py",
   "mimetype": "text/x-python",
   "name": "python",
   "nbconvert_exporter": "python",
   "pygments_lexer": "ipython3",
   "version": "3.11.7"
  }
 },
 "nbformat": 4,
 "nbformat_minor": 2
}
